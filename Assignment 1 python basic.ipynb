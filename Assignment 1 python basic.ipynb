{
 "cells": [
  {
   "cell_type": "code",
   "execution_count": 1,
   "id": "8a95bad1-5166-4f0a-897c-3d5cdd73c237",
   "metadata": {},
   "outputs": [],
   "source": [
    "#1 What is Python, and why is it popular?\n",
    "#ANS- Python is an interpreted, object-oriented, high-level programming language with dynamic semantics. \n",
    "#     It is easy to learn, readable, modular, widelu use in data industry and ML, Lots of libraries.\n"
   ]
  },
  {
   "cell_type": "code",
   "execution_count": 2,
   "id": "121c5dea-b793-4b27-b832-36e949b717ef",
   "metadata": {},
   "outputs": [],
   "source": [
    "#2 What is an interpreter in Python?\n",
    "#ANS- An Interpreter is a program that converts the code a user writes into an intermediate language, called the byte code. It converts the code line by line, one at a time."
   ]
  },
  {
   "cell_type": "code",
   "execution_count": 3,
   "id": "e8736f4a-831a-408c-89a3-d09489657c85",
   "metadata": {},
   "outputs": [],
   "source": [
    "#3 What are pre-defined keywords in Python?\n",
    "#ANS- are predefined and reserved words that cannot be used as variable or function, holds a special meaning and have specific purpose in python programming"
   ]
  },
  {
   "cell_type": "code",
   "execution_count": 4,
   "id": "66690236-6892-43dd-b286-bd2ce10cc251",
   "metadata": {},
   "outputs": [],
   "source": [
    "#4 Can keywords be used as variable names?\n",
    "#ANS- NO. We cannot use a keyword as a variable name, function name, or any other identifier. They are used to define the syntax and structure of the Python language"
   ]
  },
  {
   "cell_type": "code",
   "execution_count": 11,
   "id": "d17b2d2d-30ac-4149-ab75-2d05242819e1",
   "metadata": {},
   "outputs": [
    {
     "data": {
      "text/plain": [
       "[1, 2, 'Bjay']"
      ]
     },
     "execution_count": 11,
     "metadata": {},
     "output_type": "execute_result"
    }
   ],
   "source": [
    "#5 What is mutability in Python?\n",
    "#ANS- Mutable objects are those that allow you to change their value or data in place without affecting the object identity\n",
    "list_count=[1, 2, \"Ajay\"]\n",
    "list_count[2]=\"Bjay\"\n",
    "list_count\n"
   ]
  },
  {
   "cell_type": "code",
   "execution_count": 16,
   "id": "d4832b43-e684-4f1a-9f40-6350e5d76cf7",
   "metadata": {},
   "outputs": [
    {
     "ename": "TypeError",
     "evalue": "'tuple' object does not support item assignment",
     "output_type": "error",
     "traceback": [
      "\u001b[1;31m---------------------------------------------------------------------------\u001b[0m",
      "\u001b[1;31mTypeError\u001b[0m                                 Traceback (most recent call last)",
      "Cell \u001b[1;32mIn[16], line 7\u001b[0m\n\u001b[0;32m      5\u001b[0m list_Item\n\u001b[0;32m      6\u001b[0m \u001b[38;5;28mtuple\u001b[39m\u001b[38;5;241m=\u001b[39m (\u001b[38;5;241m1\u001b[39m, \u001b[38;5;241m2\u001b[39m, \u001b[38;5;124m\"\u001b[39m\u001b[38;5;124msuraj\u001b[39m\u001b[38;5;124m\"\u001b[39m)\n\u001b[1;32m----> 7\u001b[0m \u001b[38;5;28mtuple\u001b[39m[\u001b[38;5;241m1\u001b[39m]\u001b[38;5;241m=\u001b[39m \u001b[38;5;241m3\u001b[39m\n",
      "\u001b[1;31mTypeError\u001b[0m: 'tuple' object does not support item assignment"
     ]
    }
   ],
   "source": [
    "#6 Why are lists mutable, but tuples are immutable?\n",
    "#ANS- list support item assignment but tuple do not.\n",
    "list_Item= [\"toys\", \"boy\", \"girl\", \"leaf\", \"cycle\"]\n",
    "list_Item[3]= \"leaves\"\n",
    "list_Item\n",
    "tuple= (1, 2, \"suraj\")\n",
    "tuple[1]= 3"
   ]
  },
  {
   "cell_type": "code",
   "execution_count": 17,
   "id": "a9e272b2-b57f-48c6-a489-1fbd7f8a0ff7",
   "metadata": {},
   "outputs": [
    {
     "data": {
      "text/plain": [
       "True"
      ]
     },
     "execution_count": 17,
     "metadata": {},
     "output_type": "execute_result"
    }
   ],
   "source": [
    "#7 What is the difference between “==” and “is” operators in Python?\n",
    "#ANS- \"==\" means equality operator and \"is\" means identity operator.\n",
    "#     the equality operator == returns True if two objects, have the same value and returns False if both have different value.\n",
    "#     When the variables on either side of an operator point at the exact same object, the “is” operator’s evaluation is true. Otherwise, it would provide us with a false assessment.\n",
    "# example- identity \"is\"\n",
    "a=2\n",
    "b=a"
   ]
  },
  {
   "cell_type": "code",
   "execution_count": 18,
   "id": "f8a73970-48ee-4560-b2fa-e304cb58ae19",
   "metadata": {},
   "outputs": [],
   "source": [
    "#8 What are logical operators in Python?\n",
    "#ANS- logical operators are used to combine conditional statements, allowing you to perform operations based on multiple conditions\n",
    "#EXAMPLE And, Or operators.\n"
   ]
  },
  {
   "cell_type": "code",
   "execution_count": 19,
   "id": "77110fcf-709f-4033-ac9d-af4b618deb8e",
   "metadata": {},
   "outputs": [],
   "source": [
    "#9 What is type casting in Python?\n",
    "#ANS- Its means to change format.the method to convert the Python variable datatype into a certain data type in order to perform the required operation by users.\n",
    "# implicit and explicit type casting\n"
   ]
  },
  {
   "cell_type": "code",
   "execution_count": 1,
   "id": "b33b11cb-10b0-4956-b323-83f561671d28",
   "metadata": {},
   "outputs": [],
   "source": [
    "#10 What is the difference between implicit and explicit type casting?\n",
    "#ANS- IMPLICIT-(1)In implicit type casting, the programming language automatically converts data from one type to another if needed.\n",
    "#>>>>>>>(2)Implicit casting saves time and effort because you don't have to manually convert data types.\n",
    "#>>>> (3) Sometimes, when converting between data types, there can be a loss of precision, eg- convreting from float to integer.\n",
    "\n",
    "#>>  EXPLICIT-(1) also known as type conversion or type coercion, occurs when the programmer explicitly converts a value from one data type to another.\n",
    "#>>>>>>       (2) It gives the programmer more control over the conversion process, allowing for precise manipulation of data types.\n",
    "#>>>>>>>>>> (3) Explicit type casting allows the programmer to handle the conversion carefully to avoid loss of precision."
   ]
  },
  {
   "cell_type": "code",
   "execution_count": 2,
   "id": "1332acd5-bf97-495d-8b4c-94ad8d68de90",
   "metadata": {},
   "outputs": [],
   "source": [
    "#11  What is the purpose of conditional statements in Python?\n",
    "#ANS- Helps you to code decision based on some pre condition. the common conditional statement are if, if else , nested if else..."
   ]
  },
  {
   "cell_type": "code",
   "execution_count": 10,
   "id": "f25935ce-4193-40be-bef2-e3a886cc86fd",
   "metadata": {},
   "outputs": [
    {
     "name": "stdout",
     "output_type": "stream",
     "text": [
      "price is less than 100\n"
     ]
    }
   ],
   "source": [
    "#12  How does the elif statement work?\n",
    "#ANS-the elif conditions are applied after the if condition. Python will evalute the if condition and if it evaluates to False then it will evalute the elif blocks and execute the elif block whose expression evaluates to True\n",
    "\n",
    "price = 50\n",
    "if price > 100:\n",
    "    print(\"price is greater than 100\")\n",
    "elif price == 100:\n",
    "    print(\"price is 100\")\n",
    "else:\n",
    "    print(\"price is less than 100\")\n"
   ]
  },
  {
   "cell_type": "code",
   "execution_count": 11,
   "id": "7e48d4cf-43f4-44db-ab6c-52d4cd879fd7",
   "metadata": {},
   "outputs": [],
   "source": [
    "#13 What is the difference between for and while loops?\n",
    "#ANS- Both for loops and while loops are control flow structures in programming that allow you to repeatedly execute a block of code. \n",
    "      #>>>>>FOR LOOP>>>>\n",
    "#>>>>The for loop is used when you know in advance how many times you want to execute the block of code.\n",
    "#>>>>It iterates over a sequence (e.g., a list, tuple, string, or range) and executes the block of code for each item in the sequence.\n",
    "#>>>>The loop variable (variable) takes the value of each item in the sequence during each iteration.\n",
    "  #>>>> WHILE LOOP>>>>\n",
    "#>>>The while loop is used when you don't know in advance how many times you want to execute the block of code. It continues to execute as long as the specified condition is true.\n",
    "#>>>It's important to make sure that the condition eventually becomes false; otherwise, the loop will run indefinitely, resulting in an infinite loop.\n"
   ]
  },
  {
   "cell_type": "code",
   "execution_count": 12,
   "id": "9cc05d02-1692-42c5-81b5-8d157790d2c8",
   "metadata": {},
   "outputs": [],
   "source": [
    "#14  Describe a scenario where a while loop is more suitable than a for loop.\n",
    "#>>> Use a `while` loop when we do not know how many times the loop should run.\n",
    "#Example>>If you are prompting a user for input until they type \"exit,\" a `while` loop is appropriate.\n",
    "#(how many times the user will input an answer that is not \"exit\").\n",
    "\n"
   ]
  },
  {
   "cell_type": "code",
   "execution_count": 13,
   "id": "e3b63838-c12a-403b-b01e-346289ecf9be",
   "metadata": {},
   "outputs": [
    {
     "name": "stdout",
     "output_type": "stream",
     "text": [
      "hello world\n"
     ]
    }
   ],
   "source": [
    "\n",
    "#>>> Practical Question.\n",
    "\n",
    "#1 Write a Python program to print \"Hello, World!\n",
    "print(\"hello world\")\n"
   ]
  },
  {
   "cell_type": "code",
   "execution_count": 16,
   "id": "44618d68-c384-482c-8c67-8192e347d4d5",
   "metadata": {},
   "outputs": [
    {
     "name": "stdout",
     "output_type": "stream",
     "text": [
      "name age\n"
     ]
    }
   ],
   "source": [
    "#2 Write a Python program that displays your name and age\n",
    "name, age = \"Suraj\", 26\n",
    "print(name, age)"
   ]
  },
  {
   "cell_type": "code",
   "execution_count": 18,
   "id": "e494e344-7b5b-4420-bed7-524f47121479",
   "metadata": {},
   "outputs": [
    {
     "name": "stdout",
     "output_type": "stream",
     "text": [
      "\n",
      "Here is a list of the Python keywords.  Enter any keyword to get more help.\n",
      "\n",
      "False               class               from                or\n",
      "None                continue            global              pass\n",
      "True                def                 if                  raise\n",
      "and                 del                 import              return\n",
      "as                  elif                in                  try\n",
      "assert              else                is                  while\n",
      "async               except              lambda              with\n",
      "await               finally             nonlocal            yield\n",
      "break               for                 not                 \n",
      "\n"
     ]
    }
   ],
   "source": [
    "#3  Write code to print all the pre-defined keywords in Python using the keyword library?\n",
    "help(\"keywords\")"
   ]
  },
  {
   "cell_type": "code",
   "execution_count": 11,
   "id": "c0e2eae4-70cf-4ef3-82a6-169f5f53ec75",
   "metadata": {},
   "outputs": [
    {
     "name": "stdout",
     "output_type": "stream",
     "text": [
      "word is not keyword\n"
     ]
    }
   ],
   "source": [
    "##4 Write a program that checks if a given word is a Python keyword?\n",
    "import keyword\n",
    "s= \"hello\"\n",
    "if keyword.iskeyword(s):\n",
    "    print('word is python keyword')\n",
    "else:\n",
    "    print('word is not keyword')\n",
    "\n",
    "\n"
   ]
  },
  {
   "cell_type": "code",
   "execution_count": 12,
   "id": "27899642-8a6f-4609-bc9d-c98901682a65",
   "metadata": {},
   "outputs": [
    {
     "data": {
      "text/plain": [
       "['apple', True, 'orange', 1, 2]"
      ]
     },
     "execution_count": 12,
     "metadata": {},
     "output_type": "execute_result"
    }
   ],
   "source": [
    "# 5  Create a list and tuple in Python, and demonstrate how attempting to change an element works differently for each?\n",
    "shopping_list=[\"apple\", True, \"grapes\", 1, 2] # for list --it is mutable\n",
    "shopping_list[2]=\"orange\"\n",
    "shopping_list"
   ]
  },
  {
   "cell_type": "code",
   "execution_count": 13,
   "id": "c7767bb9-aa51-4acc-b9b1-235ebeabecd2",
   "metadata": {},
   "outputs": [
    {
     "ename": "TypeError",
     "evalue": "'tuple' object does not support item assignment",
     "output_type": "error",
     "traceback": [
      "\u001b[1;31m---------------------------------------------------------------------------\u001b[0m",
      "\u001b[1;31mTypeError\u001b[0m                                 Traceback (most recent call last)",
      "Cell \u001b[1;32mIn[13], line 3\u001b[0m\n\u001b[0;32m      1\u001b[0m \u001b[38;5;66;03m#for tuple\u001b[39;00m\n\u001b[0;32m      2\u001b[0m emp_name\u001b[38;5;241m=\u001b[39m(\u001b[38;5;124m\"\u001b[39m\u001b[38;5;124mAjay\u001b[39m\u001b[38;5;124m\"\u001b[39m, \u001b[38;5;124m\"\u001b[39m\u001b[38;5;124mSuraj\u001b[39m\u001b[38;5;124m\"\u001b[39m, \u001b[38;5;124m\"\u001b[39m\u001b[38;5;124msanjay\u001b[39m\u001b[38;5;124m\"\u001b[39m) \u001b[38;5;66;03m# suppose sanjay resign and rahul is new join and want to repacle rahul with sanjay it wont happen\u001b[39;00m\n\u001b[1;32m----> 3\u001b[0m emp_name[\u001b[38;5;241m2\u001b[39m]\u001b[38;5;241m=\u001b[39m\u001b[38;5;124m\"\u001b[39m\u001b[38;5;124mRahul\u001b[39m\u001b[38;5;124m\"\u001b[39m\n\u001b[0;32m      4\u001b[0m emp_name\n",
      "\u001b[1;31mTypeError\u001b[0m: 'tuple' object does not support item assignment"
     ]
    }
   ],
   "source": [
    "#for tuple\n",
    "emp_name=(\"Ajay\", \"Suraj\", \"sanjay\") # suppose sanjay resign and rahul is new join and want to repacle rahul with sanjay it wont happen\n",
    "emp_name[2]=\"Rahul\"\n",
    "emp_name"
   ]
  },
  {
   "cell_type": "code",
   "execution_count": 14,
   "id": "5aa7c06a-23c3-4dcd-9a0e-edda710d605f",
   "metadata": {},
   "outputs": [
    {
     "ename": "TypeError",
     "evalue": "'str' object does not support item assignment",
     "output_type": "error",
     "traceback": [
      "\u001b[1;31m---------------------------------------------------------------------------\u001b[0m",
      "\u001b[1;31mTypeError\u001b[0m                                 Traceback (most recent call last)",
      "Cell \u001b[1;32mIn[14], line 3\u001b[0m\n\u001b[0;32m      1\u001b[0m \u001b[38;5;66;03m##6 Write a function to demonstrate the behavior of mutable and immutable arguments?\u001b[39;00m\n\u001b[0;32m      2\u001b[0m message \u001b[38;5;241m=\u001b[39m \u001b[38;5;124m\"\u001b[39m\u001b[38;5;124mWelcome to Newyork city\u001b[39m\u001b[38;5;124m\"\u001b[39m\n\u001b[1;32m----> 3\u001b[0m message[\u001b[38;5;241m0\u001b[39m]\u001b[38;5;241m=\u001b[39m\u001b[38;5;124m\"\u001b[39m\u001b[38;5;124mBrisbane\u001b[39m\u001b[38;5;124m\"\u001b[39m\n\u001b[0;32m      4\u001b[0m message\n",
      "\u001b[1;31mTypeError\u001b[0m: 'str' object does not support item assignment"
     ]
    }
   ],
   "source": [
    "##6 Write a function to demonstrate the behavior of mutable and immutable arguments?\n",
    "message = \"Welcome to Newyork city\"\n",
    "message[0]=\"Brisbane\"\n",
    "message    # string is immutable"
   ]
  },
  {
   "cell_type": "code",
   "execution_count": 15,
   "id": "dccd9d95-54f1-4bc8-aab1-b751e4a656ae",
   "metadata": {},
   "outputs": [
    {
     "name": "stdout",
     "output_type": "stream",
     "text": [
      "[1, 2, 3, 4]\n",
      "[1, 3, 4]\n"
     ]
    }
   ],
   "source": [
    "my_list = [1, 2, 3]\n",
    "my_list.append(4) # to add element\n",
    "print(my_list) \n",
    "my_list.remove(2) # to remove element\n",
    "print(my_list) "
   ]
  },
  {
   "cell_type": "code",
   "execution_count": 17,
   "id": "eef0fd6f-5c1d-43b0-8707-bcf720faccd5",
   "metadata": {},
   "outputs": [
    {
     "ename": "AttributeError",
     "evalue": "'tuple' object has no attribute 'remove'",
     "output_type": "error",
     "traceback": [
      "\u001b[1;31m---------------------------------------------------------------------------\u001b[0m",
      "\u001b[1;31mAttributeError\u001b[0m                            Traceback (most recent call last)",
      "Cell \u001b[1;32mIn[17], line 5\u001b[0m\n\u001b[0;32m      2\u001b[0m tuple3\u001b[38;5;241m=\u001b[39m ([\u001b[38;5;241m1\u001b[39m, \u001b[38;5;241m2\u001b[39m, \u001b[38;5;241m3\u001b[39m], \u001b[38;5;124m'\u001b[39m\u001b[38;5;124mskill\u001b[39m\u001b[38;5;124m'\u001b[39m)\n\u001b[0;32m      3\u001b[0m tuple3[\u001b[38;5;241m0\u001b[39m][\u001b[38;5;241m1\u001b[39m]\n\u001b[1;32m----> 5\u001b[0m tuple3\u001b[38;5;241m.\u001b[39mremove([\u001b[38;5;241m1\u001b[39m, \u001b[38;5;241m2\u001b[39m, \u001b[38;5;241m3\u001b[39m])\n\u001b[0;32m      6\u001b[0m tuple3\n",
      "\u001b[1;31mAttributeError\u001b[0m: 'tuple' object has no attribute 'remove'"
     ]
    }
   ],
   "source": [
    "#now if tuple contain list and sting than how it behave\n",
    "tuple3= ([1, 2, 3], 'skill')\n",
    "tuple3[0][1]\n",
    "\n",
    "tuple3.remove([1, 2, 3])\n",
    "tuple3\n"
   ]
  },
  {
   "cell_type": "code",
   "execution_count": 18,
   "id": "307bcd20-a488-41d2-b22c-ec3f2326ab51",
   "metadata": {},
   "outputs": [],
   "source": [
    "##7 Write a function to demonstrate the behavior of mutable and immutable arguments\n",
    "#same answer as in 6th question "
   ]
  },
  {
   "cell_type": "code",
   "execution_count": 26,
   "id": "5b547f65-b355-4695-9d1c-a77755c14624",
   "metadata": {},
   "outputs": [
    {
     "name": "stdout",
     "output_type": "stream",
     "text": [
      "True\n"
     ]
    }
   ],
   "source": [
    "#8 Write a program to demonstrate the use of logical operators?\n",
    "x = 5\n",
    "y = 10\n",
    " #True && True = True\n",
    "result = (x < 10) and (y > 5)\n",
    "print(result)\n",
    "\n"
   ]
  },
  {
   "cell_type": "code",
   "execution_count": 27,
   "id": "1dcdc375-98dc-4051-9dd7-0b125009a0ce",
   "metadata": {},
   "outputs": [
    {
     "name": "stdout",
     "output_type": "stream",
     "text": [
      "True\n"
     ]
    }
   ],
   "source": [
    "is_weekend = True\n",
    "is_holiday = False\n",
    "# True || False = True\n",
    "result = is_weekend or is_holiday \n",
    "print(result)"
   ]
  },
  {
   "cell_type": "code",
   "execution_count": 29,
   "id": "5b473d94-b8c0-46e0-8a72-4b3a1b092a86",
   "metadata": {},
   "outputs": [
    {
     "name": "stdin",
     "output_type": "stream",
     "text": [
      "enter any even number 2\n"
     ]
    },
    {
     "name": "stdout",
     "output_type": "stream",
     "text": [
      "2\n"
     ]
    }
   ],
   "source": [
    "##9 Write a Python program to convert user input from string to integer, float, and boolean types?\n",
    "#string to integer\n",
    "game=input(\"enter any even number\")\n",
    "num=int(game)\n",
    "print(num)\n",
    "\n"
   ]
  },
  {
   "cell_type": "code",
   "execution_count": 30,
   "id": "f0a59ea0-59ae-4e0d-8558-c3d6627696b9",
   "metadata": {},
   "outputs": [
    {
     "name": "stdin",
     "output_type": "stream",
     "text": [
      "enter any even number 12\n"
     ]
    },
    {
     "name": "stdout",
     "output_type": "stream",
     "text": [
      "12.0\n"
     ]
    }
   ],
   "source": [
    "game=input(\"enter any even number\")\n",
    "num=float(game)\n",
    "print(num)"
   ]
  },
  {
   "cell_type": "code",
   "execution_count": 31,
   "id": "0dbf3a88-74d3-4f92-826c-50ab22e6381c",
   "metadata": {},
   "outputs": [
    {
     "name": "stdin",
     "output_type": "stream",
     "text": [
      "enter any even number 10\n"
     ]
    },
    {
     "name": "stdout",
     "output_type": "stream",
     "text": [
      "True\n"
     ]
    }
   ],
   "source": [
    "game=input(\"enter any even number\")\n",
    "num=bool(game)\n",
    "print(num)"
   ]
  },
  {
   "cell_type": "code",
   "execution_count": 36,
   "id": "d0d866ca-f56e-4b4d-97df-dec6afb6d8db",
   "metadata": {},
   "outputs": [
    {
     "ename": "TypeError",
     "evalue": "float() argument must be a string or a real number, not 'list'",
     "output_type": "error",
     "traceback": [
      "\u001b[1;31m---------------------------------------------------------------------------\u001b[0m",
      "\u001b[1;31mTypeError\u001b[0m                                 Traceback (most recent call last)",
      "Cell \u001b[1;32mIn[36], line 3\u001b[0m\n\u001b[0;32m      1\u001b[0m \u001b[38;5;66;03m##10  Write code to demonstrate type casting with list elements?\u001b[39;00m\n\u001b[0;32m      2\u001b[0m shopping_list\u001b[38;5;241m=\u001b[39m[\u001b[38;5;124m\"\u001b[39m\u001b[38;5;124m5\u001b[39m\u001b[38;5;124m\"\u001b[39m, \u001b[38;5;124m\"\u001b[39m\u001b[38;5;124mgrapes\u001b[39m\u001b[38;5;124m\"\u001b[39m, \u001b[38;5;241m10\u001b[39m, \u001b[38;5;241m20.5\u001b[39m, \u001b[38;5;28;01mTrue\u001b[39;00m]\n\u001b[1;32m----> 3\u001b[0m item\u001b[38;5;241m=\u001b[39m\u001b[38;5;28mfloat\u001b[39m(shopping_list)\n\u001b[0;32m      4\u001b[0m \u001b[38;5;28mprint\u001b[39m(item)\n",
      "\u001b[1;31mTypeError\u001b[0m: float() argument must be a string or a real number, not 'list'"
     ]
    }
   ],
   "source": [
    "##10  Write code to demonstrate type casting with list elements?\n",
    "shopping_list=[\"5\", \"grapes\", 10, 20.5, True]\n",
    "item=float(shopping_list)\n",
    "print(item)"
   ]
  },
  {
   "cell_type": "code",
   "execution_count": 37,
   "id": "c2ebca4e-9b61-40dd-aed4-5d30d272eda6",
   "metadata": {},
   "outputs": [
    {
     "name": "stdout",
     "output_type": "stream",
     "text": [
      "number is postive\n"
     ]
    }
   ],
   "source": [
    "##11 Write a program that checks if a number is positive, negative, or zero?\n",
    "num=25\n",
    "if num>0:\n",
    "    print(\"number is postive\")\n",
    "elif num ==0:\n",
    "    print(\"number is zero\")\n",
    "else:\n",
    "    print(\"number is negative\")\n",
    "    \n",
    "\n"
   ]
  },
  {
   "cell_type": "code",
   "execution_count": 45,
   "id": "3fd52922-84b6-4dd9-be7d-043c1853d985",
   "metadata": {},
   "outputs": [
    {
     "name": "stdout",
     "output_type": "stream",
     "text": [
      "1 2 3 4 5 6 7 8 9 10 "
     ]
    }
   ],
   "source": [
    "##12  Write a for loop to print numbers from 1 to 10?\n",
    "range(1,11)\n",
    "for i in range(1,11):\n",
    "    print(i, end=\" \")\n"
   ]
  },
  {
   "cell_type": "code",
   "execution_count": 54,
   "id": "f0ec5369-777a-4069-af33-6993bd15fc60",
   "metadata": {},
   "outputs": [
    {
     "name": "stdout",
     "output_type": "stream",
     "text": [
      "sum of all even number 650\n"
     ]
    }
   ],
   "source": [
    "##13 Write a Python program to find the sum of all even numbers between 1 and 50?\n",
    "sum_even = 0\n",
    "range(1,51)\n",
    "for i in range(1,51):\n",
    "    if i % 2 == 0:\n",
    "        sum_even =sum_even + i\n",
    "print(\"sum of all even number\",sum_even)\n",
    "    \n"
   ]
  },
  {
   "cell_type": "code",
   "execution_count": 55,
   "id": "d7d63b1d-5e21-4d86-8b80-df6b545fdacc",
   "metadata": {},
   "outputs": [
    {
     "name": "stdout",
     "output_type": "stream",
     "text": [
      "jaruS\n"
     ]
    }
   ],
   "source": [
    "#14 Write a program to reverse a string using a while loop?\n",
    "\n",
    "s='Suraj'\n",
    "output=\"\"\n",
    "i = len(s)-1\n",
    "while i >= 0:\n",
    "    output= output + s[i]\n",
    "    i=i-1\n",
    "print(output)"
   ]
  },
  {
   "cell_type": "code",
   "execution_count": 59,
   "id": "2b26a415-c00d-411b-9419-82bfb066f549",
   "metadata": {},
   "outputs": [
    {
     "name": "stdin",
     "output_type": "stream",
     "text": [
      "enter the number: 4\n"
     ]
    },
    {
     "name": "stdout",
     "output_type": "stream",
     "text": [
      "factorial of 4 is 1\n",
      "factorial of 4 is 2\n",
      "factorial of 4 is 6\n",
      "factorial of 4 is 24\n"
     ]
    }
   ],
   "source": [
    "#15 Write a Python program to calculate the factorial of a number provided by the user using a while loop?\n",
    "num= int(input(\"enter the number:\"))\n",
    "fac=1\n",
    "i=1\n",
    "while i<=num:\n",
    "    fac=fac*i\n",
    "    i=i+1\n",
    "    print(\"factorial of\", num, \"is\", fac)"
   ]
  },
  {
   "cell_type": "code",
   "execution_count": null,
   "id": "012f77e2-34b7-4795-9cfa-eb52fe94464b",
   "metadata": {},
   "outputs": [],
   "source": []
  }
 ],
 "metadata": {
  "kernelspec": {
   "display_name": "Python 3 (ipykernel)",
   "language": "python",
   "name": "python3"
  },
  "language_info": {
   "codemirror_mode": {
    "name": "ipython",
    "version": 3
   },
   "file_extension": ".py",
   "mimetype": "text/x-python",
   "name": "python",
   "nbconvert_exporter": "python",
   "pygments_lexer": "ipython3",
   "version": "3.12.7"
  }
 },
 "nbformat": 4,
 "nbformat_minor": 5
}
